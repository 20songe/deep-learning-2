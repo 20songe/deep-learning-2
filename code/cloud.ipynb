{
 "cells": [
  {
   "cell_type": "code",
   "execution_count": null,
   "metadata": {},
   "outputs": [],
   "source": [
    "!ssh-keygen -t rsa\n",
    "!ssh-keyscan -t rsa github.com >> ~/.ssh/known_hosts\n",
    "!clear\n",
    "!echo \"PUBLIC KEY: (for github.com)\"\n",
    "!cat /root/.ssh/id_rsa.pub"
   ]
  },
  {
   "attachments": {},
   "cell_type": "markdown",
   "metadata": {},
   "source": [
    "Follow these steps before proceeding:\n",
    "\n",
    "1. Go to https://github.com/settings/keys and login if necessary\n",
    "2. Click the green \"New SSH Key\" button\n",
    "3. Choose any title\n",
    "4. From the cell above in this Colab notebook, copy the public key. It looks like \"ssh-rsa xxxxx\", is very long, and should be the last line.\n",
    "5. Paste the key into the \"key\" text box and click \"Add SSH key\"\n",
    "6. Below, replace **[GITHUBUSERNAME]** with your GitHub username.\n",
    "7. Run the cell."
   ]
  },
  {
   "cell_type": "code",
   "execution_count": null,
   "metadata": {},
   "outputs": [],
   "source": [
    "!git clone git@github.com:BrownCSCI1430/homework5_cnns-hypochoco.git\n",
    "%cd homework5_cnns-hypochoco\n",
    "!git config --global user.email \"colab_bot@brown.edu\"\n",
    "!git config --global user.name \"Colab Bot\""
   ]
  },
  {
   "cell_type": "code",
   "execution_count": null,
   "metadata": {},
   "outputs": [],
   "source": [
    "!git pull"
   ]
  },
  {
   "cell_type": "code",
   "execution_count": null,
   "metadata": {},
   "outputs": [],
   "source": [
    "%cd code"
   ]
  },
  {
   "cell_type": "code",
   "execution_count": null,
   "metadata": {},
   "outputs": [],
   "source": [
    "!python main.py"
   ]
  }
 ],
 "metadata": {
  "language_info": {
   "name": "python"
  },
  "orig_nbformat": 4
 },
 "nbformat": 4,
 "nbformat_minor": 2
}
